{
 "cells": [
  {
   "cell_type": "code",
   "execution_count": null,
   "id": "5d901605",
   "metadata": {},
   "outputs": [],
   "source": [
    "from plaid_bridges.dataloaders import PlaidDataLoader, HeterogeneousCollater, HomogeneousCollater\n",
    "\n",
    "from datasets import load_dataset, load_from_disk\n",
    "from plaid.containers.sample import Sample\n",
    "import pickle\n",
    "from plaid.bridges.huggingface_bridge import (\n",
    "    huggingface_dataset_to_plaid,\n",
    "    huggingface_description_to_problem_definition,\n",
    ")"
   ]
  },
  {
   "cell_type": "markdown",
   "id": "e8376443",
   "metadata": {},
   "source": [
    "## Case with homogeneous samples"
   ]
  },
  {
   "cell_type": "code",
   "execution_count": null,
   "id": "691a2eee",
   "metadata": {},
   "outputs": [],
   "source": [
    "hf_dataset = load_dataset(\"PLAID-datasets/VKI-LS59\", split=\"all_samples[:10]\")\n",
    "sample = Sample.model_validate(pickle.loads(hf_dataset[0][\"sample\"]))\n",
    "\n",
    "pb_def = huggingface_description_to_problem_definition(hf_dataset.info.description)\n",
    "ids = pb_def.get_split(\"train\")[:10]\n",
    "\n",
    "dataset, _ = huggingface_dataset_to_plaid(hf_dataset, ids=ids, processes_number=5)"
   ]
  },
  {
   "cell_type": "code",
   "execution_count": null,
   "id": "1c59a350",
   "metadata": {},
   "outputs": [],
   "source": [
    "print(dataset)\n",
    "all_feat_ids = dataset[0].get_all_features_identifiers()\n",
    "\n",
    "scalar_features = [f for f in all_feat_ids if \"scalar\" in f.values()]\n",
    "field_features = [f for f in all_feat_ids if \"field\" in f.values()]\n",
    "\n",
    "in_feature_identifiers = [scalar_features[0], field_features[0]]\n",
    "out_feature_identifiers = [field_features[1], scalar_features[1]]\n",
    "\n",
    "print(in_feature_identifiers)\n",
    "print(out_feature_identifiers)"
   ]
  },
  {
   "cell_type": "code",
   "execution_count": null,
   "id": "44efb0e4",
   "metadata": {},
   "outputs": [],
   "source": [
    "loader = PlaidDataLoader(dataset, in_feature_identifiers = in_feature_identifiers, out_feature_identifiers = out_feature_identifiers, collate_fn=HomogeneousCollater, batch_size = 2, shuffle = True)\n",
    "\n",
    "def _make_hashable(feat_dict: dict):\n",
    "    return tuple(sorted(feat_dict.items()))\n",
    "\n",
    "batch = next(iter(loader))\n",
    "print(\"scalars =\", batch[0][_make_hashable(in_feature_identifiers[0])])\n",
    "print(\"fields =\", batch[1][_make_hashable(out_feature_identifiers[0])], \" | >>>> tensor:\", batch[1][_make_hashable(out_feature_identifiers[0])].shape)"
   ]
  },
  {
   "cell_type": "markdown",
   "id": "c471c346",
   "metadata": {},
   "source": [
    "## Case with heterogeneous samples"
   ]
  },
  {
   "cell_type": "code",
   "execution_count": null,
   "id": "c3e1b1de",
   "metadata": {},
   "outputs": [],
   "source": [
    "hf_dataset = load_dataset(\"PLAID-datasets/tensile2d\", split=\"all_samples[:10]\")\n",
    "sample = Sample.model_validate(pickle.loads(hf_dataset[0][\"sample\"]))\n",
    "\n",
    "pb_def = huggingface_description_to_problem_definition(hf_dataset.info.description)\n",
    "ids = pb_def.get_split(\"train_500\")[:10]\n",
    "\n",
    "\n",
    "dataset, _ = huggingface_dataset_to_plaid(hf_dataset, ids=ids, processes_number=5)"
   ]
  },
  {
   "cell_type": "code",
   "execution_count": null,
   "id": "ecb8f076",
   "metadata": {},
   "outputs": [],
   "source": [
    "print(dataset)\n",
    "all_feat_ids = dataset[0].get_all_features_identifiers()\n",
    "\n",
    "scalar_features = [f for f in all_feat_ids if \"scalar\" in f.values()]\n",
    "field_features = [f for f in all_feat_ids if \"field\" in f.values()]\n",
    "\n",
    "in_feature_identifiers = [scalar_features[0], field_features[0]]\n",
    "out_feature_identifiers = [field_features[1], scalar_features[1]]\n",
    "\n",
    "print(in_feature_identifiers)\n",
    "print(out_feature_identifiers)"
   ]
  },
  {
   "cell_type": "code",
   "execution_count": null,
   "id": "11580a0d",
   "metadata": {},
   "outputs": [],
   "source": [
    "loader = PlaidDataLoader(dataset, in_feature_identifiers = in_feature_identifiers, out_feature_identifiers = out_feature_identifiers, collate_fn=HeterogeneousCollater, batch_size = 2, shuffle = True)\n",
    "\n",
    "def _make_hashable(feat_dict: dict):\n",
    "    return tuple(sorted(feat_dict.items()))\n",
    "\n",
    "batch = next(iter(loader))\n",
    "print(\"scalars =\", batch[0][_make_hashable(in_feature_identifiers[0])])\n",
    "print(\"fields =\", batch[1][_make_hashable(out_feature_identifiers[0])], \" | >>>> list:\", type(batch[1][_make_hashable(out_feature_identifiers[0])]))"
   ]
  }
 ],
 "metadata": {
  "kernelspec": {
   "display_name": "plaid-bridges",
   "language": "python",
   "name": "python3"
  },
  "language_info": {
   "codemirror_mode": {
    "name": "ipython",
    "version": 3
   },
   "file_extension": ".py",
   "mimetype": "text/x-python",
   "name": "python",
   "nbconvert_exporter": "python",
   "pygments_lexer": "ipython3",
   "version": "3.11.13"
  }
 },
 "nbformat": 4,
 "nbformat_minor": 5
}
