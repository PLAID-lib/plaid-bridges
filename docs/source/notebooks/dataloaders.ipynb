{
 "cells": [
  {
   "cell_type": "code",
   "execution_count": null,
   "id": "5d901605",
   "metadata": {},
   "outputs": [
    {
     "name": "stderr",
     "output_type": "stream",
     "text": [
      "/home/fabien/miniconda3/envs/plaid-bridges/lib/python3.11/site-packages/tqdm/auto.py:21: TqdmWarning: IProgress not found. Please update jupyter and ipywidgets. See https://ipywidgets.readthedocs.io/en/stable/user_install.html\n",
      "  from .autonotebook import tqdm as notebook_tqdm\n"
     ]
    }
   ],
   "source": [
    "from plaid_bridges.dataloaders import PlaidDataLoader\n",
    "\n",
    "from datasets import load_dataset\n",
    "from plaid.containers.sample import Sample\n",
    "import pickle\n",
    "from plaid.bridges.huggingface_bridge import (\n",
    "    huggingface_dataset_to_plaid,\n",
    "    huggingface_description_to_problem_definition,\n",
    ")"
   ]
  },
  {
   "cell_type": "markdown",
   "id": "e8376443",
   "metadata": {},
   "source": [
    "## Case with homogeneous samples"
   ]
  },
  {
   "cell_type": "code",
   "execution_count": 2,
   "id": "691a2eee",
   "metadata": {},
   "outputs": [
    {
     "name": "stdout",
     "output_type": "stream",
     "text": [
      "Converting huggingface dataset to plaid dataset...\n"
     ]
    },
    {
     "name": "stderr",
     "output_type": "stream",
     "text": [
      "100%|██████████| 10/10 [00:00<00:00, 75.60it/s]\n"
     ]
    }
   ],
   "source": [
    "hf_dataset = load_dataset(\"PLAID-datasets/VKI-LS59\", split=\"all_samples[:10]\")\n",
    "sample = Sample.model_validate(pickle.loads(hf_dataset[0][\"sample\"]))\n",
    "\n",
    "pb_def = huggingface_description_to_problem_definition(hf_dataset.info.description)\n",
    "ids = pb_def.get_split(\"train\")[:10]\n",
    "\n",
    "\n",
    "dataset, _ = huggingface_dataset_to_plaid(hf_dataset, ids=ids, processes_number=5)"
   ]
  },
  {
   "cell_type": "code",
   "execution_count": 3,
   "id": "1c59a350",
   "metadata": {},
   "outputs": [
    {
     "name": "stdout",
     "output_type": "stream",
     "text": [
      "Dataset(10 samples, 8 scalars, 0 time_series, 8 fields)\n",
      "[{'type': 'scalar', 'name': np.str_('Pr')}, {'type': 'field', 'name': 'mach', 'base_name': 'Base_2_2', 'zone_name': 'Zone', 'location': 'Vertex', 'time': np.float64(0.0)}]\n",
      "[{'type': 'field', 'name': 'rou', 'base_name': 'Base_2_2', 'zone_name': 'Zone', 'location': 'Vertex', 'time': np.float64(0.0)}, {'type': 'scalar', 'name': np.str_('Q')}]\n"
     ]
    }
   ],
   "source": [
    "print(dataset)\n",
    "all_feat_ids = dataset[0].get_all_features_identifiers()\n",
    "\n",
    "scalar_features = [f for f in all_feat_ids if \"scalar\" in f.values()]\n",
    "field_features = [f for f in all_feat_ids if \"field\" in f.values()]\n",
    "\n",
    "in_feature_identifiers = [scalar_features[0], field_features[0]]\n",
    "out_feature_identifiers = [field_features[1], scalar_features[1]]\n",
    "\n",
    "print(in_feature_identifiers)\n",
    "print(out_feature_identifiers)"
   ]
  },
  {
   "cell_type": "code",
   "execution_count": 4,
   "id": "44efb0e4",
   "metadata": {},
   "outputs": [
    {
     "name": "stdout",
     "output_type": "stream",
     "text": [
      "scalars = tensor([0.9525, 0.9636], dtype=torch.float64)\n",
      "fields = tensor([[0.3300, 0.3301, 0.3301,  ..., 0.3353, 0.3352, 0.3351],\n",
      "        [0.3269, 0.3269, 0.3270,  ..., 0.3414, 0.3414, 0.3413]],\n",
      "       dtype=torch.float64)  | >>>> tensor: torch.Size([2, 36421])\n"
     ]
    }
   ],
   "source": [
    "loader = PlaidDataLoader(dataset, batch_size = 2, shuffle = True, in_feature_identifiers = in_feature_identifiers, out_feature_identifiers = out_feature_identifiers)\n",
    "\n",
    "def _make_hashable(feat_dict: dict):\n",
    "    return tuple(sorted(feat_dict.items()))\n",
    "\n",
    "batch = next(iter(loader))\n",
    "print(\"scalars =\", batch[0][_make_hashable(in_feature_identifiers[0])])\n",
    "print(\"fields =\", batch[1][_make_hashable(out_feature_identifiers[0])], \" | >>>> tensor:\", batch[1][_make_hashable(out_feature_identifiers[0])].shape)"
   ]
  },
  {
   "cell_type": "markdown",
   "id": "c471c346",
   "metadata": {},
   "source": [
    "## Case with heterogeneous samples"
   ]
  },
  {
   "cell_type": "code",
   "execution_count": 5,
   "id": "c3e1b1de",
   "metadata": {},
   "outputs": [
    {
     "name": "stdout",
     "output_type": "stream",
     "text": [
      "Converting huggingface dataset to plaid dataset...\n"
     ]
    },
    {
     "name": "stderr",
     "output_type": "stream",
     "text": [
      "100%|██████████| 10/10 [00:00<00:00, 279.68it/s]\n"
     ]
    }
   ],
   "source": [
    "hf_dataset = load_dataset(\"PLAID-datasets/tensile2d\", split=\"all_samples[:10]\")\n",
    "sample = Sample.model_validate(pickle.loads(hf_dataset[0][\"sample\"]))\n",
    "\n",
    "pb_def = huggingface_description_to_problem_definition(hf_dataset.info.description)\n",
    "ids = pb_def.get_split(\"train_500\")[:10]\n",
    "\n",
    "\n",
    "dataset, _ = huggingface_dataset_to_plaid(hf_dataset, ids=ids, processes_number=5)"
   ]
  },
  {
   "cell_type": "code",
   "execution_count": 6,
   "id": "ecb8f076",
   "metadata": {},
   "outputs": [
    {
     "name": "stdout",
     "output_type": "stream",
     "text": [
      "Dataset(10 samples, 10 scalars, 0 time_series, 6 fields)\n",
      "[{'type': 'scalar', 'name': np.str_('P')}, {'type': 'field', 'name': 'U1', 'base_name': 'Base_2_2', 'zone_name': 'Zone', 'location': 'Vertex', 'time': np.float64(0.0)}]\n",
      "[{'type': 'field', 'name': 'sig22', 'base_name': 'Base_2_2', 'zone_name': 'Zone', 'location': 'Vertex', 'time': np.float64(0.0)}, {'type': 'scalar', 'name': np.str_('max_U2_top')}]\n"
     ]
    }
   ],
   "source": [
    "print(dataset)\n",
    "all_feat_ids = dataset[0].get_all_features_identifiers()\n",
    "\n",
    "scalar_features = [f for f in all_feat_ids if \"scalar\" in f.values()]\n",
    "field_features = [f for f in all_feat_ids if \"field\" in f.values()]\n",
    "\n",
    "in_feature_identifiers = [scalar_features[0], field_features[0]]\n",
    "out_feature_identifiers = [field_features[1], scalar_features[1]]\n",
    "\n",
    "print(in_feature_identifiers)\n",
    "print(out_feature_identifiers)"
   ]
  },
  {
   "cell_type": "code",
   "execution_count": 7,
   "id": "11580a0d",
   "metadata": {},
   "outputs": [
    {
     "name": "stdout",
     "output_type": "stream",
     "text": [
      "scalars = tensor([-47.4500, -47.7900], dtype=torch.float64)\n",
      "fields = [array([-1.65194049e-02, -1.83891654e-02, -1.58058256e-01, ...,\n",
      "        4.62158966e+00, -1.49136043e+00,  3.45564270e+01], shape=(6263,)), array([-5.96606731e-03, -1.55568108e-01, -7.12685585e-02, ...,\n",
      "        2.49899048e+02,  1.81157944e+02,  2.83986397e+01], shape=(6184,))]  | >>>> list: <class 'list'>\n"
     ]
    }
   ],
   "source": [
    "loader = PlaidDataLoader(dataset, batch_size = 2, shuffle = True, in_feature_identifiers = in_feature_identifiers, out_feature_identifiers = out_feature_identifiers)\n",
    "\n",
    "def _make_hashable(feat_dict: dict):\n",
    "    return tuple(sorted(feat_dict.items()))\n",
    "\n",
    "batch = next(iter(loader))\n",
    "print(\"scalars =\", batch[0][_make_hashable(in_feature_identifiers[0])])\n",
    "print(\"fields =\", batch[1][_make_hashable(out_feature_identifiers[0])], \" | >>>> list:\", type(batch[1][_make_hashable(out_feature_identifiers[0])]))"
   ]
  }
 ],
 "metadata": {
  "kernelspec": {
   "display_name": "plaid-bridges",
   "language": "python",
   "name": "python3"
  },
  "language_info": {
   "codemirror_mode": {
    "name": "ipython",
    "version": 3
   },
   "file_extension": ".py",
   "mimetype": "text/x-python",
   "name": "python",
   "nbconvert_exporter": "python",
   "pygments_lexer": "ipython3",
   "version": "3.11.13"
  }
 },
 "nbformat": 4,
 "nbformat_minor": 5
}
