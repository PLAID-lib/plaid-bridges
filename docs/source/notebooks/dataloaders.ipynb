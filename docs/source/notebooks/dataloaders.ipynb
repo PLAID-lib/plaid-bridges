{
 "cells": [
  {
   "cell_type": "code",
   "execution_count": 1,
   "id": "5d901605",
   "metadata": {},
   "outputs": [
    {
     "name": "stderr",
     "output_type": "stream",
     "text": [
      "c:\\Users\\d582428\\AppData\\Local\\miniforge3\\envs\\plaid-bridges\\Lib\\site-packages\\tqdm\\auto.py:21: TqdmWarning: IProgress not found. Please update jupyter and ipywidgets. See https://ipywidgets.readthedocs.io/en/stable/user_install.html\n",
      "  from .autonotebook import tqdm as notebook_tqdm\n",
      "[2025-08-19 13:16:11,706:INFO:config.py:<module>(54)]:PyTorch version 2.8.0 available.\n"
     ]
    }
   ],
   "source": [
    "from plaid_bridges.dataloaders import PlaidDataLoader, HeterogeneousCollater, HomogeneousCollater\n",
    "\n",
    "from datasets import load_dataset, load_from_disk\n",
    "from plaid.containers.sample import Sample\n",
    "import pickle\n",
    "from plaid.bridges.huggingface_bridge import (\n",
    "    huggingface_dataset_to_plaid,\n",
    "    huggingface_description_to_problem_definition,\n",
    ")"
   ]
  },
  {
   "cell_type": "markdown",
   "id": "e8376443",
   "metadata": {},
   "source": [
    "## Case with homogeneous samples"
   ]
  },
  {
   "cell_type": "code",
   "execution_count": null,
   "id": "691a2eee",
   "metadata": {},
   "outputs": [
    {
     "name": "stdout",
     "output_type": "stream",
     "text": [
      "Converting huggingface dataset to plaid dataset...\n"
     ]
    },
    {
     "name": "stderr",
     "output_type": "stream",
     "text": [
      "100%|██████████| 10/10 [00:07<00:00,  1.26it/s]\n"
     ]
    }
   ],
   "source": [
    "hf_dataset = load_dataset(\"PLAID-datasets/VKI-LS59\", split=\"all_samples[:10]\")\n",
    "sample = Sample.model_validate(pickle.loads(hf_dataset[0][\"sample\"]))\n",
    "\n",
    "pb_def = huggingface_description_to_problem_definition(hf_dataset.info.description)\n",
    "ids = pb_def.get_split(\"train\")[:10]\n",
    "\n",
    "dataset, _ = huggingface_dataset_to_plaid(hf_dataset, ids=ids, processes_number=5)"
   ]
  },
  {
   "cell_type": "code",
   "execution_count": 3,
   "id": "1c59a350",
   "metadata": {},
   "outputs": [
    {
     "name": "stdout",
     "output_type": "stream",
     "text": [
      "Dataset(10 samples, 8 scalars, 0 time_series, 8 fields)\n",
      "[{'type': 'scalar', 'name': np.str_('Pr')}, {'type': 'field', 'name': 'nut', 'base_name': 'Base_2_2', 'zone_name': 'Zone', 'location': 'Vertex', 'time': np.float64(0.0)}]\n",
      "[{'type': 'field', 'name': 'roe', 'base_name': 'Base_2_2', 'zone_name': 'Zone', 'location': 'Vertex', 'time': np.float64(0.0)}, {'type': 'scalar', 'name': np.str_('Q')}]\n"
     ]
    }
   ],
   "source": [
    "print(dataset)\n",
    "all_feat_ids = dataset[0].get_all_features_identifiers()\n",
    "\n",
    "scalar_features = [f for f in all_feat_ids if \"scalar\" in f.values()]\n",
    "field_features = [f for f in all_feat_ids if \"field\" in f.values()]\n",
    "\n",
    "in_feature_identifiers = [scalar_features[0], field_features[0]]\n",
    "out_feature_identifiers = [field_features[1], scalar_features[1]]\n",
    "\n",
    "print(in_feature_identifiers)\n",
    "print(out_feature_identifiers)"
   ]
  },
  {
   "cell_type": "code",
   "execution_count": 4,
   "id": "44efb0e4",
   "metadata": {},
   "outputs": [
    {
     "name": "stdout",
     "output_type": "stream",
     "text": [
      "scalars = tensor([0.9636, 0.9616], dtype=torch.float64)\n",
      "fields = tensor([[2.6890, 2.6890, 2.6890,  ..., 1.9656, 1.9655, 1.9654],\n",
      "        [3.3818, 3.3818, 3.3817,  ..., 2.7646, 2.7646, 2.7645]],\n",
      "       dtype=torch.float64)  | >>>> tensor: torch.Size([2, 36421])\n"
     ]
    }
   ],
   "source": [
    "loader = PlaidDataLoader(dataset, in_feature_identifiers = in_feature_identifiers, out_feature_identifiers = out_feature_identifiers, collate_fn=HomogeneousCollater, batch_size = 2, shuffle = True, )\n",
    "\n",
    "def _make_hashable(feat_dict: dict):\n",
    "    return tuple(sorted(feat_dict.items()))\n",
    "\n",
    "batch = next(iter(loader))\n",
    "print(\"scalars =\", batch[0][_make_hashable(in_feature_identifiers[0])])\n",
    "print(\"fields =\", batch[1][_make_hashable(out_feature_identifiers[0])], \" | >>>> tensor:\", batch[1][_make_hashable(out_feature_identifiers[0])].shape)"
   ]
  },
  {
   "cell_type": "markdown",
   "id": "c471c346",
   "metadata": {},
   "source": [
    "## Case with heterogeneous samples"
   ]
  },
  {
   "cell_type": "code",
   "execution_count": null,
   "id": "c3e1b1de",
   "metadata": {},
   "outputs": [
    {
     "name": "stdout",
     "output_type": "stream",
     "text": [
      "Converting huggingface dataset to plaid dataset...\n"
     ]
    },
    {
     "name": "stderr",
     "output_type": "stream",
     "text": [
      "100%|██████████| 10/10 [00:06<00:00,  1.64it/s]\n"
     ]
    }
   ],
   "source": [
    "hf_dataset = load_dataset(\"PLAID-datasets/tensile2d\", split=\"all_samples[:10]\")\n",
    "sample = Sample.model_validate(pickle.loads(hf_dataset[0][\"sample\"]))\n",
    "\n",
    "pb_def = huggingface_description_to_problem_definition(hf_dataset.info.description)\n",
    "ids = pb_def.get_split(\"train_500\")[:10]\n",
    "\n",
    "\n",
    "dataset, _ = huggingface_dataset_to_plaid(hf_dataset, ids=ids, processes_number=5)"
   ]
  },
  {
   "cell_type": "code",
   "execution_count": 6,
   "id": "ecb8f076",
   "metadata": {},
   "outputs": [
    {
     "name": "stdout",
     "output_type": "stream",
     "text": [
      "Dataset(10 samples, 10 scalars, 0 time_series, 6 fields)\n",
      "[{'type': 'scalar', 'name': np.str_('P')}, {'type': 'field', 'name': 'sig22', 'base_name': 'Base_2_2', 'zone_name': 'Zone', 'location': 'Vertex', 'time': np.float64(0.0)}]\n",
      "[{'type': 'field', 'name': 'q', 'base_name': 'Base_2_2', 'zone_name': 'Zone', 'location': 'Vertex', 'time': np.float64(0.0)}, {'type': 'scalar', 'name': np.str_('max_U2_top')}]\n"
     ]
    }
   ],
   "source": [
    "print(dataset)\n",
    "all_feat_ids = dataset[0].get_all_features_identifiers()\n",
    "\n",
    "scalar_features = [f for f in all_feat_ids if \"scalar\" in f.values()]\n",
    "field_features = [f for f in all_feat_ids if \"field\" in f.values()]\n",
    "\n",
    "in_feature_identifiers = [scalar_features[0], field_features[0]]\n",
    "out_feature_identifiers = [field_features[1], scalar_features[1]]\n",
    "\n",
    "print(in_feature_identifiers)\n",
    "print(out_feature_identifiers)"
   ]
  },
  {
   "cell_type": "code",
   "execution_count": 9,
   "id": "11580a0d",
   "metadata": {},
   "outputs": [
    {
     "name": "stdout",
     "output_type": "stream",
     "text": [
      "scalars = [np.float64(-47.79), np.float64(-48.03)]\n",
      "fields = [array([0.00000000e+00, 0.00000000e+00, 0.00000000e+00, ...,\n",
      "       7.33460474e-05, 1.30227287e-04, 0.00000000e+00], shape=(6184,)), array([0., 0., 0., ..., 0., 0., 0.], shape=(6161,))]  | >>>> list: <class 'list'>\n"
     ]
    }
   ],
   "source": [
    "loader = PlaidDataLoader(dataset, in_feature_identifiers = in_feature_identifiers, out_feature_identifiers = out_feature_identifiers, collate_fn=HeterogeneousCollater, batch_size = 2, shuffle = True)\n",
    "\n",
    "def _make_hashable(feat_dict: dict):\n",
    "    return tuple(sorted(feat_dict.items()))\n",
    "\n",
    "batch = next(iter(loader))\n",
    "print(\"scalars =\", batch[0][_make_hashable(in_feature_identifiers[0])])\n",
    "print(\"fields =\", batch[1][_make_hashable(out_feature_identifiers[0])], \" | >>>> list:\", type(batch[1][_make_hashable(out_feature_identifiers[0])]))"
   ]
  }
 ],
 "metadata": {
  "kernelspec": {
   "display_name": "plaid-bridges",
   "language": "python",
   "name": "python3"
  },
  "language_info": {
   "codemirror_mode": {
    "name": "ipython",
    "version": 3
   },
   "file_extension": ".py",
   "mimetype": "text/x-python",
   "name": "python",
   "nbconvert_exporter": "python",
   "pygments_lexer": "ipython3",
   "version": "3.11.13"
  }
 },
 "nbformat": 4,
 "nbformat_minor": 5
}
