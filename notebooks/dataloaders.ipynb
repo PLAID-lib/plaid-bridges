{
 "cells": [
  {
   "cell_type": "markdown",
   "id": "0400046b",
   "metadata": {},
   "source": [
    "# Dataloader examples"
   ]
  },
  {
   "cell_type": "code",
   "execution_count": null,
   "id": "5d901605",
   "metadata": {},
   "outputs": [],
   "source": [
    "import pickle\n",
    "\n",
    "from datasets import load_dataset\n",
    "from plaid.bridges.huggingface_bridge import (\n",
    "    huggingface_dataset_to_plaid,\n",
    "    huggingface_description_to_problem_definition,\n",
    ")\n",
    "from plaid.containers.sample import Sample\n",
    "\n",
    "from plaid_bridges.dataloaders import (\n",
    "    HeterogeneousCollater,\n",
    "    HomogeneousCollater,\n",
    "    PlaidDataLoader,\n",
    ")"
   ]
  },
  {
   "cell_type": "code",
   "execution_count": null,
   "id": "691a2eee",
   "metadata": {},
   "outputs": [],
   "source": [
    "hf_dataset = load_dataset(\"PLAID-datasets/VKI-LS59\", split=\"all_samples[:10]\")\n",
    "sample = Sample.model_validate(pickle.loads(hf_dataset[0][\"sample\"]))\n",
    "\n",
    "pb_def = huggingface_description_to_problem_definition(hf_dataset.info.description)\n",
    "ids = pb_def.get_split(\"train\")[:10]\n",
    "\n",
    "dataset, _ = huggingface_dataset_to_plaid(hf_dataset, ids=ids, processes_number=5)"
   ]
  },
  {
   "cell_type": "code",
   "execution_count": null,
   "id": "1c59a350",
   "metadata": {},
   "outputs": [],
   "source": [
    "print(dataset)\n",
    "all_feat_ids = dataset[0].get_all_features_identifiers()\n",
    "\n",
    "scalar_features = [f for f in all_feat_ids if \"scalar\" in f.values()]\n",
    "field_features = [f for f in all_feat_ids if \"field\" in f.values()]\n",
    "\n",
    "in_feature_identifiers = [scalar_features[0], field_features[0]]\n",
    "out_feature_identifiers = [field_features[1], scalar_features[1]]\n",
    "\n",
    "print(in_feature_identifiers)\n",
    "print(out_feature_identifiers)"
   ]
  },
  {
   "cell_type": "code",
   "execution_count": null,
   "id": "44efb0e4",
   "metadata": {},
   "outputs": [],
   "source": [
    "loader = PlaidDataLoader(\n",
    "    dataset,\n",
    "    collate_fn=HomogeneousCollater(\n",
    "        in_feature_identifiers=in_feature_identifiers,\n",
    "        out_feature_identifiers=out_feature_identifiers,\n",
    "    ),\n",
    "    batch_size=2,\n",
    "    shuffle=True,\n",
    ")\n",
    "\n",
    "\n",
    "batch = next(iter(loader))\n",
    "print(\n",
    "    \"fields =\",\n",
    "    batch[1][0],\n",
    "    \" | >>>> tensor:\",\n",
    "    batch[1][0].shape,\n",
    ")"
   ]
  },
  {
   "cell_type": "markdown",
   "id": "c471c346",
   "metadata": {},
   "source": [
    "## Case with heterogeneous samples"
   ]
  },
  {
   "cell_type": "code",
   "execution_count": null,
   "id": "c3e1b1de",
   "metadata": {},
   "outputs": [],
   "source": [
    "hf_dataset = load_dataset(\"PLAID-datasets/tensile2d\", split=\"all_samples[:10]\")\n",
    "sample = Sample.model_validate(pickle.loads(hf_dataset[0][\"sample\"]))\n",
    "\n",
    "pb_def = huggingface_description_to_problem_definition(hf_dataset.info.description)\n",
    "ids = pb_def.get_split(\"train_500\")[:10]\n",
    "\n",
    "\n",
    "dataset, _ = huggingface_dataset_to_plaid(hf_dataset, ids=ids, processes_number=5)"
   ]
  },
  {
   "cell_type": "code",
   "execution_count": null,
   "id": "ecb8f076",
   "metadata": {},
   "outputs": [],
   "source": [
    "print(dataset)\n",
    "all_feat_ids = dataset[0].get_all_features_identifiers()\n",
    "\n",
    "scalar_features = [f for f in all_feat_ids if \"scalar\" in f.values()]\n",
    "field_features = [f for f in all_feat_ids if \"field\" in f.values()]\n",
    "\n",
    "in_feature_identifiers = [scalar_features[0], field_features[0]]\n",
    "out_feature_identifiers = [field_features[1], scalar_features[1]]\n",
    "\n",
    "print(in_feature_identifiers)\n",
    "print(out_feature_identifiers)"
   ]
  },
  {
   "cell_type": "code",
   "execution_count": null,
   "id": "11580a0d",
   "metadata": {},
   "outputs": [],
   "source": [
    "loader = PlaidDataLoader(\n",
    "    dataset,\n",
    "    collate_fn=HeterogeneousCollater(\n",
    "        in_feature_identifiers=in_feature_identifiers,\n",
    "        out_feature_identifiers=out_feature_identifiers,\n",
    "    ),\n",
    "    batch_size=2,\n",
    "    shuffle=True,\n",
    ")\n",
    "\n",
    "batch = next(iter(loader))\n",
    "print(\"scalars =\", batch[0][0])\n",
    "print(\n",
    "    \"fields =\",\n",
    "    batch[1][0],\n",
    "    \" | >>>> list:\",\n",
    "    type(batch[1][0]),\n",
    ")"
   ]
  },
  {
   "cell_type": "code",
   "execution_count": null,
   "id": "f6269c0f",
   "metadata": {},
   "outputs": [],
   "source": []
  },
  {
   "cell_type": "code",
   "execution_count": null,
   "id": "c399e0dd",
   "metadata": {},
   "outputs": [],
   "source": []
  },
  {
   "cell_type": "code",
   "execution_count": null,
   "id": "2a70dd6c",
   "metadata": {},
   "outputs": [],
   "source": []
  }
 ],
 "metadata": {
  "kernelspec": {
   "display_name": "plaid-bridges",
   "language": "python",
   "name": "python3"
  },
  "language_info": {
   "codemirror_mode": {
    "name": "ipython",
    "version": 3
   },
   "file_extension": ".py",
   "mimetype": "text/x-python",
   "name": "python",
   "nbconvert_exporter": "python",
   "pygments_lexer": "ipython3",
   "version": "3.11.13"
  }
 },
 "nbformat": 4,
 "nbformat_minor": 5
}
