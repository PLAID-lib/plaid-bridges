{
 "cells": [
  {
   "cell_type": "markdown",
   "id": "0400046b",
   "metadata": {},
   "source": [
    "# Torch bridges examples"
   ]
  },
  {
   "cell_type": "code",
   "execution_count": null,
   "id": "5d901605",
   "metadata": {},
   "outputs": [],
   "source": [
    "import copy\n",
    "\n",
    "import numpy as np\n",
    "from datasets import load_dataset\n",
    "from plaid.bridges.huggingface_bridge import (\n",
    "    huggingface_dataset_to_plaid,\n",
    "    huggingface_description_to_problem_definition,\n",
    ")\n",
    "from plaid_ops.mesh.feature_engineering import update_dataset_with_sdf\n",
    "from plaid_ops.mesh.transformations import (\n",
    "    compute_bounding_box,\n",
    "    project_on_regular_grid,\n",
    ")\n",
    "from torch.utils.data import DataLoader\n",
    "from torch_geometric.loader import DataLoader as PyGDataLoader\n",
    "\n",
    "from plaid_bridges.torch import GridFieldsAndScalarsBridge, PyGBridge\n",
    "from plaid_bridges.torch.pyg import plot_sample_field, plot_sample_mesh"
   ]
  },
  {
   "cell_type": "markdown",
   "id": "d959da68",
   "metadata": {},
   "source": [
    "## Projection on constant rectilinear grid, with scalars as constant fields"
   ]
  },
  {
   "cell_type": "code",
   "execution_count": null,
   "id": "788c5319",
   "metadata": {},
   "outputs": [],
   "source": [
    "hf_dataset = load_dataset(\n",
    "    \"PLAID-datasets/2D_Multiscale_Hyperelasticity\", split=\"all_samples\"\n",
    ")\n",
    "pb_def = huggingface_description_to_problem_definition(hf_dataset.info.description)\n",
    "ids_train = pb_def.get_split(\"DOE_train\")[:10]\n",
    "\n",
    "dataset_train, _ = huggingface_dataset_to_plaid(\n",
    "    hf_dataset, ids=ids_train, processes_number=5, verbose=False\n",
    ")\n",
    "\n",
    "print(dataset_train)"
   ]
  },
  {
   "cell_type": "code",
   "execution_count": null,
   "id": "d9d93b3d",
   "metadata": {},
   "outputs": [],
   "source": [
    "dims = (101, 101)\n",
    "dataset_train = update_dataset_with_sdf(dataset_train, verbose=False)\n",
    "\n",
    "bbox = compute_bounding_box(dataset_train)\n",
    "projected_dataset_train = project_on_regular_grid(\n",
    "    dataset_train, dimensions=dims, bbox=bbox, verbose=False\n",
    ")\n",
    "\n",
    "all_feat_ids = dataset_train[ids_train[0]].get_all_features_identifiers()\n",
    "scalar_features = [f for f in all_feat_ids if \"scalar\" in f.values()]\n",
    "field_features = [f for f in all_feat_ids if \"field\" in f.values()]\n",
    "\n",
    "in_features_identifiers = [field_features[0], scalar_features[0]]\n",
    "out_features_identifiers = [scalar_features[1], field_features[1]]"
   ]
  },
  {
   "cell_type": "code",
   "execution_count": null,
   "id": "34415461",
   "metadata": {},
   "outputs": [],
   "source": [
    "bridge = GridFieldsAndScalarsBridge(dimensions=dims)\n",
    "torch_dataset = bridge.convert(\n",
    "    projected_dataset_train, in_features_identifiers, out_features_identifiers\n",
    ")\n",
    "\n",
    "loader = DataLoader(\n",
    "    torch_dataset,\n",
    "    batch_size=2,\n",
    "    shuffle=False,\n",
    ")\n",
    "\n",
    "out_feat_id = scalar_features[0]\n",
    "\n",
    "before = copy.deepcopy(\n",
    "    projected_dataset_train[ids_train[1]].get_feature_from_identifier(out_feat_id)\n",
    ")\n",
    "\n",
    "predictions = []\n",
    "for batch_x, batch_y in loader:\n",
    "    for torch_sample in batch_y:\n",
    "        predictions.append(torch_sample.detach().cpu())\n",
    "\n",
    "pred_projected_dataset_train = bridge.restore(\n",
    "    projected_dataset_train, predictions, out_features_identifiers\n",
    ")\n",
    "\n",
    "after = copy.deepcopy(\n",
    "    pred_projected_dataset_train[ids_train[1]].get_feature_from_identifier(out_feat_id)\n",
    ")\n",
    "\n",
    "print(\"Error after transform then inverse transform (2nd sample):\")\n",
    "print(np.linalg.norm(after - before) / np.linalg.norm(before))"
   ]
  },
  {
   "cell_type": "markdown",
   "id": "f801d97d",
   "metadata": {},
   "source": [
    "## Pytorch geometric"
   ]
  },
  {
   "cell_type": "markdown",
   "id": "4148d614",
   "metadata": {},
   "source": [
    "### Heterogenous example: 2D_Multiscale_Hyperelasticity"
   ]
  },
  {
   "cell_type": "code",
   "execution_count": null,
   "id": "3fa91059",
   "metadata": {},
   "outputs": [],
   "source": [
    "bridge = PyGBridge()\n",
    "\n",
    "pyg_dataset = bridge.convert(dataset_train, in_features_identifiers)\n",
    "\n",
    "print(in_features_identifiers)"
   ]
  },
  {
   "cell_type": "code",
   "execution_count": null,
   "id": "f1876cb7",
   "metadata": {},
   "outputs": [],
   "source": [
    "loader = PyGDataLoader(\n",
    "    pyg_dataset,\n",
    "    batch_size=2,\n",
    "    shuffle=False,\n",
    ")\n",
    "\n",
    "before = copy.deepcopy(\n",
    "    dataset_train[ids_train[1]].get_feature_from_identifier(in_features_identifiers[1])\n",
    ")\n",
    "\n",
    "predictions = []\n",
    "for batch in loader:\n",
    "    print(\"batch.x.shape =\", batch.x.shape)\n",
    "    for pyg_samples in batch.to_data_list():\n",
    "        predictions.append(\n",
    "            [pyg_samples.x.detach().cpu()[:, 0], pyg_samples.scalars.detach().cpu()[0]]\n",
    "        )\n",
    "\n",
    "pred_dataset_train = bridge.restore(dataset_train, predictions, in_features_identifiers)\n",
    "\n",
    "after = copy.deepcopy(\n",
    "    pred_dataset_train[ids_train[1]].get_feature_from_identifier(\n",
    "        in_features_identifiers[1]\n",
    "    )\n",
    ")\n",
    "\n",
    "print(\"Error after transform then inverse transform (2nd sample):\")\n",
    "print(np.linalg.norm(after - before) / np.linalg.norm(before))"
   ]
  },
  {
   "cell_type": "code",
   "execution_count": null,
   "id": "8befae3d",
   "metadata": {},
   "outputs": [],
   "source": [
    "plot_sample_mesh(pyg_dataset[0])"
   ]
  },
  {
   "cell_type": "code",
   "execution_count": null,
   "id": "13e154ee",
   "metadata": {},
   "outputs": [],
   "source": [
    "plot_sample_field(pyg_dataset[0], pyg_dataset[0].field_names[0])"
   ]
  },
  {
   "cell_type": "markdown",
   "id": "4c432a12",
   "metadata": {},
   "source": [
    "### Multi-base example: VKI-LS59"
   ]
  },
  {
   "cell_type": "code",
   "execution_count": null,
   "id": "25c8d8d3",
   "metadata": {},
   "outputs": [],
   "source": [
    "hf_dataset = load_dataset(\"PLAID-datasets/VKI-LS59\", split=\"all_samples\")\n",
    "pb_def = huggingface_description_to_problem_definition(hf_dataset.info.description)\n",
    "ids_train = pb_def.get_split(\"train\")[:10]\n",
    "\n",
    "dataset_train, _ = huggingface_dataset_to_plaid(\n",
    "    hf_dataset, ids=ids_train, processes_number=5, verbose=False\n",
    ")\n",
    "\n",
    "print(dataset_train)"
   ]
  },
  {
   "cell_type": "code",
   "execution_count": null,
   "id": "5689698e",
   "metadata": {},
   "outputs": [],
   "source": [
    "all_feat_ids = dataset_train[ids_train[0]].get_all_features_identifiers()\n",
    "scalar_features = [f for f in all_feat_ids if \"scalar\" in f.values()]"
   ]
  },
  {
   "cell_type": "markdown",
   "id": "2f83f63b",
   "metadata": {},
   "source": [
    "#### Base \"Base_1_2\""
   ]
  },
  {
   "cell_type": "code",
   "execution_count": null,
   "id": "71328630",
   "metadata": {},
   "outputs": [],
   "source": [
    "field_features = [\n",
    "    f for f in all_feat_ids if \"field\" in f.values() if f[\"base_name\"] == \"Base_1_2\"\n",
    "]\n",
    "features_identifiers = scalar_features + field_features\n",
    "\n",
    "bridge = PyGBridge(base_name=\"Base_1_2\")\n",
    "\n",
    "pyg_dataset = bridge.convert(dataset_train, features_identifiers)"
   ]
  },
  {
   "cell_type": "code",
   "execution_count": null,
   "id": "162a5ce6",
   "metadata": {},
   "outputs": [],
   "source": [
    "plot_sample_mesh(pyg_dataset[0])"
   ]
  },
  {
   "cell_type": "code",
   "execution_count": null,
   "id": "93d3eaa1",
   "metadata": {},
   "outputs": [],
   "source": [
    "plot_sample_field(pyg_dataset[0], \"M_iso\")"
   ]
  },
  {
   "cell_type": "code",
   "execution_count": null,
   "id": "f5048d38",
   "metadata": {},
   "outputs": [],
   "source": [
    "print(\"field_names =\", pyg_dataset[0].field_names)\n",
    "print(\"scalar_names =\", pyg_dataset[0].scalar_names)\n",
    "print(\"scalars =\", pyg_dataset[0].scalars)"
   ]
  },
  {
   "cell_type": "markdown",
   "id": "59aba211",
   "metadata": {},
   "source": [
    "#### Base \"Base_2_2\""
   ]
  },
  {
   "cell_type": "code",
   "execution_count": null,
   "id": "783ab4d5",
   "metadata": {},
   "outputs": [],
   "source": [
    "field_features = [\n",
    "    f for f in all_feat_ids if \"field\" in f.values() if f[\"base_name\"] == \"Base_2_2\"\n",
    "]\n",
    "features_identifiers = scalar_features + field_features\n",
    "\n",
    "bridge = PyGBridge(base_name=\"Base_2_2\")\n",
    "\n",
    "pyg_dataset = bridge.convert(dataset_train, features_identifiers)"
   ]
  },
  {
   "cell_type": "code",
   "execution_count": null,
   "id": "e26fb1df",
   "metadata": {},
   "outputs": [],
   "source": [
    "plot_sample_mesh(pyg_dataset[0])"
   ]
  },
  {
   "cell_type": "code",
   "execution_count": null,
   "id": "6784e83b",
   "metadata": {},
   "outputs": [],
   "source": [
    "plot_sample_field(pyg_dataset[0], \"nut\")"
   ]
  }
 ],
 "metadata": {
  "kernelspec": {
   "display_name": "plaid-bridged",
   "language": "python",
   "name": "python3"
  },
  "language_info": {
   "codemirror_mode": {
    "name": "ipython",
    "version": 3
   },
   "file_extension": ".py",
   "mimetype": "text/x-python",
   "name": "python",
   "nbconvert_exporter": "python",
   "pygments_lexer": "ipython3",
   "version": "3.11.13"
  }
 },
 "nbformat": 4,
 "nbformat_minor": 5
}
