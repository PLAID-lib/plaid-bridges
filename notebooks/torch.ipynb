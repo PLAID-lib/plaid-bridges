{
 "cells": [
  {
   "cell_type": "markdown",
   "id": "0400046b",
   "metadata": {},
   "source": [
    "# Torch bridges examples"
   ]
  },
  {
   "cell_type": "code",
   "execution_count": 1,
   "id": "5d901605",
   "metadata": {},
   "outputs": [
    {
     "name": "stderr",
     "output_type": "stream",
     "text": [
      "/home/fabien/miniconda3/envs/plaid-bridged/lib/python3.11/site-packages/tqdm/auto.py:21: TqdmWarning: IProgress not found. Please update jupyter and ipywidgets. See https://ipywidgets.readthedocs.io/en/stable/user_install.html\n",
      "  from .autonotebook import tqdm as notebook_tqdm\n",
      "Kokkos::OpenMP::initialize WARNING: OMP_PROC_BIND environment variable not set\n",
      "  In general, for best performance with OpenMP 4.0 or better set OMP_PROC_BIND=spread and OMP_PLACES=threads\n",
      "  For best performance with OpenMP 3.1 set OMP_PROC_BIND=true\n",
      "  For unit testing set OMP_PROC_BIND=false\n",
      "\n"
     ]
    }
   ],
   "source": [
    "import copy\n",
    "\n",
    "import numpy as np\n",
    "from datasets import load_dataset\n",
    "from plaid.bridges.huggingface_bridge import (\n",
    "    huggingface_dataset_to_plaid,\n",
    "    huggingface_description_to_problem_definition,\n",
    ")\n",
    "from plaid_ops.mesh.feature_engineering import update_dataset_with_sdf\n",
    "from plaid_ops.mesh.transformations import (\n",
    "    compute_bounding_box,\n",
    "    project_on_regular_grid,\n",
    ")\n",
    "from torch.utils.data import DataLoader\n",
    "\n",
    "# from plaid_bridges.torch.grid_fields_and_scalars import GridFieldsAndScalarsDataset"
   ]
  },
  {
   "cell_type": "markdown",
   "id": "d959da68",
   "metadata": {},
   "source": [
    "## Projection on constant rectilinear grid, with scalars as constant fields"
   ]
  },
  {
   "cell_type": "code",
   "execution_count": 2,
   "id": "788c5319",
   "metadata": {},
   "outputs": [
    {
     "name": "stdout",
     "output_type": "stream",
     "text": [
      "Converting Hugging Face dataset to plaid dataset...\n"
     ]
    },
    {
     "name": "stderr",
     "output_type": "stream",
     "text": [
      "100%|██████████| 10/10 [00:00<00:00, 263.09it/s]"
     ]
    },
    {
     "name": "stdout",
     "output_type": "stream",
     "text": [
      "Dataset(10 samples, 4 scalars, 0 time_series, 7 fields)\n"
     ]
    },
    {
     "name": "stderr",
     "output_type": "stream",
     "text": [
      "\n"
     ]
    }
   ],
   "source": [
    "hf_dataset = load_dataset(\n",
    "    \"PLAID-datasets/2D_Multiscale_Hyperelasticity\", split=\"all_samples\"\n",
    ")\n",
    "pb_def = huggingface_description_to_problem_definition(hf_dataset.info.description)\n",
    "ids_train = pb_def.get_split(\"DOE_train\")[:10]\n",
    "\n",
    "dataset_train, _ = huggingface_dataset_to_plaid(\n",
    "    hf_dataset, ids=ids_train, processes_number=5\n",
    ")\n",
    "n_train = len(dataset_train)\n",
    "print(dataset_train)"
   ]
  },
  {
   "cell_type": "code",
   "execution_count": 3,
   "id": "d9d93b3d",
   "metadata": {},
   "outputs": [
    {
     "name": "stderr",
     "output_type": "stream",
     "text": [
      "  0%|          | 0/10 [00:00<?, ?it/s]"
     ]
    },
    {
     "name": "stderr",
     "output_type": "stream",
     "text": [
      "100%|██████████| 10/10 [00:00<00:00, 21.09it/s]\n"
     ]
    },
    {
     "name": "stdout",
     "output_type": "stream",
     "text": [
      "[376, 377, 378, 379, 380, 381, 382, 383, 384, 385]\n"
     ]
    },
    {
     "name": "stderr",
     "output_type": "stream",
     "text": [
      "100%|██████████| 10/10 [00:00<00:00, 32.65it/s]\n"
     ]
    }
   ],
   "source": [
    "dims = (101, 101)\n",
    "dataset_train = update_dataset_with_sdf(dataset_train, verbose=True)\n",
    "\n",
    "print(dataset_train.get_sample_ids())\n",
    "\n",
    "bbox = compute_bounding_box(dataset_train)\n",
    "projected_dataset_train = project_on_regular_grid(\n",
    "    dataset_train, dimensions=dims, bbox=bbox, verbose=True\n",
    ")\n",
    "\n",
    "all_feat_ids = dataset_train[ids_train[0]].get_all_features_identifiers()\n",
    "scalar_features = [f for f in all_feat_ids if \"scalar\" in f.values()]\n",
    "field_features = [f for f in all_feat_ids if \"field\" in f.values()]"
   ]
  },
  {
   "cell_type": "code",
   "execution_count": 4,
   "id": "f5128800",
   "metadata": {},
   "outputs": [],
   "source": [
    "# torch_dataset = GridFieldsAndScalarsDataset(\n",
    "#     dataset=projected_dataset_train,\n",
    "#     dimensions=dims,\n",
    "#     in_features_identifiers=[field_features[0], scalar_features[0]],\n",
    "#     out_features_identifiers=[scalar_features[1], field_features[1]],\n",
    "# )\n",
    "\n",
    "# loader = DataLoader(\n",
    "#     torch_dataset,\n",
    "#     batch_size=2,\n",
    "#     shuffle=False,\n",
    "# )\n",
    "\n",
    "# out_feat_id = scalar_features[0]\n",
    "\n",
    "# before = copy.deepcopy(\n",
    "#     projected_dataset_train[ids_train[1]].get_feature_from_identifier(out_feat_id)\n",
    "# )\n",
    "\n",
    "# predictions = []\n",
    "# for batch in loader:\n",
    "#     for torch_sample in batch[1]:\n",
    "#         predictions.append(torch_sample.detach().cpu().numpy())\n",
    "\n",
    "# projected_dataset_train = torch_dataset.inverse_transform(predictions)\n",
    "\n",
    "# after = copy.deepcopy(\n",
    "#     projected_dataset_train[ids_train[1]].get_feature_from_identifier(out_feat_id)\n",
    "# )\n",
    "\n",
    "# print(\"Error after transform then inverse transform (2nd sample):\")\n",
    "# print(np.linalg.norm(after - before) / np.linalg.norm(before))"
   ]
  },
  {
   "cell_type": "code",
   "execution_count": 5,
   "id": "aadf0ae8",
   "metadata": {},
   "outputs": [],
   "source": [
    "from plaid_bridges.common.base_regression_dataset import BaseRegressionDataset\n",
    "from plaid_bridges.torch.grid_fields_and_scalars import (\n",
    "    GridFieldsAndScalarsOfflineTransformer,\n",
    ")"
   ]
  },
  {
   "cell_type": "code",
   "execution_count": 6,
   "id": "101b83f8",
   "metadata": {},
   "outputs": [],
   "source": [
    "offline_transformer = GridFieldsAndScalarsOfflineTransformer(\n",
    "    dimensions=dims,\n",
    "    in_features_identifiers=[field_features[0], scalar_features[0]],\n",
    "    out_features_identifiers=[scalar_features[1], field_features[1]],\n",
    ")"
   ]
  },
  {
   "cell_type": "code",
   "execution_count": 7,
   "id": "d240a5d0",
   "metadata": {},
   "outputs": [],
   "source": [
    "torch_dataset = BaseRegressionDataset(\n",
    "    dataset=projected_dataset_train,\n",
    "    offline_transformer=offline_transformer,\n",
    ")"
   ]
  },
  {
   "cell_type": "code",
   "execution_count": 8,
   "id": "34415461",
   "metadata": {},
   "outputs": [
    {
     "name": "stdout",
     "output_type": "stream",
     "text": [
      "Error after transform then inverse transform (2nd sample):\n",
      "0.0\n"
     ]
    }
   ],
   "source": [
    "loader = DataLoader(\n",
    "    torch_dataset,\n",
    "    batch_size=2,\n",
    "    shuffle=False,\n",
    ")\n",
    "\n",
    "out_feat_id = scalar_features[0]\n",
    "\n",
    "before = copy.deepcopy(\n",
    "    projected_dataset_train[ids_train[1]].get_feature_from_identifier(out_feat_id)\n",
    ")\n",
    "\n",
    "predictions = []\n",
    "for batch_x, batch_y in loader:\n",
    "    for torch_sample in batch_y:\n",
    "        predictions.append(torch_sample.detach().cpu())\n",
    "\n",
    "pred_projected_dataset_train = offline_transformer.inverse_transform(\n",
    "    projected_dataset_train, predictions\n",
    ")\n",
    "\n",
    "after = copy.deepcopy(\n",
    "    pred_projected_dataset_train[ids_train[1]].get_feature_from_identifier(out_feat_id)\n",
    ")\n",
    "\n",
    "print(\"Error after transform then inverse transform (2nd sample):\")\n",
    "print(np.linalg.norm(after - before) / np.linalg.norm(before))"
   ]
  },
  {
   "cell_type": "code",
   "execution_count": 9,
   "id": "6f9ffcf7",
   "metadata": {},
   "outputs": [
    {
     "name": "stdout",
     "output_type": "stream",
     "text": [
      "RegressionDataset, initialized from plaid:Dataset(10 samples, 4 scalars, 0 time_series, 8 fields)\n"
     ]
    }
   ],
   "source": [
    "print(torch_dataset)"
   ]
  },
  {
   "cell_type": "code",
   "execution_count": 10,
   "id": "b2295d90",
   "metadata": {},
   "outputs": [
    {
     "name": "stdout",
     "output_type": "stream",
     "text": [
      "Transformer (2 input features, 2 output features)\n",
      "Transformer: input features=['psi (field)', 'C11 (scalar)'], output features=['C12 (scalar)', 'P12 (field)']\n"
     ]
    }
   ],
   "source": [
    "print(offline_transformer)\n",
    "print(offline_transformer.show_details())"
   ]
  }
 ],
 "metadata": {
  "kernelspec": {
   "display_name": "plaid-bridged",
   "language": "python",
   "name": "python3"
  },
  "language_info": {
   "codemirror_mode": {
    "name": "ipython",
    "version": 3
   },
   "file_extension": ".py",
   "mimetype": "text/x-python",
   "name": "python",
   "nbconvert_exporter": "python",
   "pygments_lexer": "ipython3",
   "version": "3.11.13"
  }
 },
 "nbformat": 4,
 "nbformat_minor": 5
}
