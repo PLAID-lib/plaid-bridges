{
 "cells": [
  {
   "cell_type": "markdown",
   "id": "0400046b",
   "metadata": {},
   "source": [
    "# Torch bridges examples"
   ]
  },
  {
   "cell_type": "code",
   "execution_count": 1,
   "id": "5d901605",
   "metadata": {},
   "outputs": [
    {
     "name": "stderr",
     "output_type": "stream",
     "text": [
      "/home/fabien/miniconda3/envs/plaid-bridges/lib/python3.11/site-packages/tqdm/auto.py:21: TqdmWarning: IProgress not found. Please update jupyter and ipywidgets. See https://ipywidgets.readthedocs.io/en/stable/user_install.html\n",
      "  from .autonotebook import tqdm as notebook_tqdm\n"
     ]
    }
   ],
   "source": [
    "import pickle\n",
    "\n",
    "from datasets import load_dataset\n",
    "from plaid.bridges.huggingface_bridge import (\n",
    "    huggingface_dataset_to_plaid,\n",
    "    huggingface_description_to_problem_definition,\n",
    ")\n",
    "from plaid.containers.sample import Sample\n",
    "\n",
    "from torch.utils.data import DataLoader\n",
    "\n",
    "from plaid_bridges.torch.base import HomogeneousDataset\n",
    "from plaid_bridges.torch.grid import GridFieldsAndScalarsDataset\n",
    "import copy\n",
    "import numpy as np"
   ]
  },
  {
   "cell_type": "code",
   "execution_count": 2,
   "id": "691a2eee",
   "metadata": {},
   "outputs": [
    {
     "name": "stdout",
     "output_type": "stream",
     "text": [
      "Converting huggingface dataset to plaid dataset...\n"
     ]
    },
    {
     "name": "stderr",
     "output_type": "stream",
     "text": [
      "100%|██████████| 10/10 [00:00<00:00, 76.34it/s]\n"
     ]
    }
   ],
   "source": [
    "hf_dataset = load_dataset(\"PLAID-datasets/VKI-LS59\", split=\"all_samples[:10]\")\n",
    "sample = Sample.model_validate(pickle.loads(hf_dataset[0][\"sample\"]))\n",
    "\n",
    "pb_def = huggingface_description_to_problem_definition(hf_dataset.info.description)\n",
    "ids = pb_def.get_split(\"train\")[:10]\n",
    "\n",
    "dataset, _ = huggingface_dataset_to_plaid(hf_dataset, ids=ids, processes_number=5)"
   ]
  },
  {
   "cell_type": "code",
   "execution_count": 3,
   "id": "1c59a350",
   "metadata": {},
   "outputs": [
    {
     "name": "stdout",
     "output_type": "stream",
     "text": [
      "Dataset(10 samples, 8 scalars, 0 time_series, 8 fields)\n",
      "[{'type': 'scalar', 'name': np.str_('Pr')}, {'type': 'scalar', 'name': np.str_('Q')}, {'type': 'scalar', 'name': np.str_('Tr')}, {'type': 'scalar', 'name': np.str_('angle_in')}, {'type': 'scalar', 'name': np.str_('angle_out')}, {'type': 'scalar', 'name': np.str_('eth_is')}, {'type': 'scalar', 'name': np.str_('mach_out')}, {'type': 'scalar', 'name': np.str_('power')}]\n",
      "[{'type': 'field', 'name': 'roe', 'base_name': 'Base_2_2', 'zone_name': 'Zone', 'location': 'Vertex', 'time': np.float64(0.0)}, {'type': 'field', 'name': 'nut', 'base_name': 'Base_2_2', 'zone_name': 'Zone', 'location': 'Vertex', 'time': np.float64(0.0)}, {'type': 'field', 'name': 'rou', 'base_name': 'Base_2_2', 'zone_name': 'Zone', 'location': 'Vertex', 'time': np.float64(0.0)}, {'type': 'field', 'name': 'ro', 'base_name': 'Base_2_2', 'zone_name': 'Zone', 'location': 'Vertex', 'time': np.float64(0.0)}, {'type': 'field', 'name': 'sdf', 'base_name': 'Base_2_2', 'zone_name': 'Zone', 'location': 'Vertex', 'time': np.float64(0.0)}, {'type': 'field', 'name': 'mach', 'base_name': 'Base_2_2', 'zone_name': 'Zone', 'location': 'Vertex', 'time': np.float64(0.0)}, {'type': 'field', 'name': 'rov', 'base_name': 'Base_2_2', 'zone_name': 'Zone', 'location': 'Vertex', 'time': np.float64(0.0)}]\n"
     ]
    }
   ],
   "source": [
    "print(dataset)\n",
    "all_feat_ids = dataset[0].get_all_features_identifiers()\n",
    "\n",
    "scalar_features = [f for f in all_feat_ids if \"scalar\" in f.values()]\n",
    "field_features = [f for f in all_feat_ids if \"field\" in f.values() and \"Base_2_2\" in f.values() ]\n",
    "\n",
    "in_feature_identifiers = scalar_features\n",
    "out_feature_identifiers = field_features\n",
    "\n",
    "print(in_feature_identifiers)\n",
    "print(out_feature_identifiers)"
   ]
  },
  {
   "cell_type": "code",
   "execution_count": 4,
   "id": "44efb0e4",
   "metadata": {},
   "outputs": [
    {
     "name": "stdout",
     "output_type": "stream",
     "text": [
      "RegressionDataset (10 sample, 8 input features, 7) output features)\n",
      "Input features : ['Pr (scalar)', 'Q (scalar)', 'Tr (scalar)', 'angle_in (scalar)', 'angle_out (scalar)', 'eth_is (scalar)', 'mach_out (scalar)', 'power (scalar)']\n",
      "Output features: ['roe (field)', 'nut (field)', 'rou (field)', 'ro (field)', 'sdf (field)', 'mach (field)', 'rov (field)']\n"
     ]
    }
   ],
   "source": [
    "homogen_dataset = HomogeneousDataset(\n",
    "    dataset = dataset,\n",
    "    in_feature_identifiers = in_feature_identifiers,\n",
    "    out_feature_identifiers = out_feature_identifiers,\n",
    ")\n",
    "\n",
    "homogen_dataset.show_details()"
   ]
  },
  {
   "cell_type": "code",
   "execution_count": 5,
   "id": "afb960b4",
   "metadata": {},
   "outputs": [
    {
     "name": "stdout",
     "output_type": "stream",
     "text": [
      "Error after transform then inverse transform (2nd sample):\n",
      "0.0\n"
     ]
    }
   ],
   "source": [
    "loader = DataLoader(\n",
    "    homogen_dataset,\n",
    "    batch_size=2,\n",
    "    shuffle=False,\n",
    ")\n",
    "\n",
    "out_feat_id = out_feature_identifiers[0]\n",
    "before = copy.deepcopy(dataset[ids[1]].get_feature_from_identifier(out_feat_id))\n",
    "\n",
    "predictions = []\n",
    "for batch in loader:\n",
    "    for torch_sample in batch:\n",
    "        predictions.append(torch_sample[1])\n",
    "\n",
    "dataset_pred = homogen_dataset.inverse_transform(predictions)\n",
    "\n",
    "after = copy.deepcopy(dataset_pred[ids[1]].get_feature_from_identifier(out_feat_id))\n",
    "\n",
    "print(\"Error after transform then inverse transform (2nd sample):\")\n",
    "print(np.linalg.norm(after - before)/np.linalg.norm(before))"
   ]
  }
 ],
 "metadata": {
  "kernelspec": {
   "display_name": "plaid-bridges",
   "language": "python",
   "name": "python3"
  },
  "language_info": {
   "codemirror_mode": {
    "name": "ipython",
    "version": 3
   },
   "file_extension": ".py",
   "mimetype": "text/x-python",
   "name": "python",
   "nbconvert_exporter": "python",
   "pygments_lexer": "ipython3",
   "version": "3.11.13"
  }
 },
 "nbformat": 4,
 "nbformat_minor": 5
}
