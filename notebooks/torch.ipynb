{
 "cells": [
  {
   "cell_type": "markdown",
   "id": "0400046b",
   "metadata": {},
   "source": [
    "# Torch bridges examples"
   ]
  },
  {
   "cell_type": "code",
   "execution_count": 9,
   "id": "5d901605",
   "metadata": {},
   "outputs": [],
   "source": [
    "import copy\n",
    "\n",
    "import numpy as np\n",
    "from datasets import load_dataset\n",
    "from plaid.bridges.huggingface_bridge import (\n",
    "    huggingface_dataset_to_plaid,\n",
    "    huggingface_description_to_problem_definition,\n",
    ")\n",
    "from plaid_ops.mesh.feature_engineering import update_dataset_with_sdf\n",
    "from plaid_ops.mesh.transformations import (\n",
    "    compute_bounding_box,\n",
    "    project_on_regular_grid,\n",
    ")\n",
    "from torch.utils.data import DataLoader\n",
    "\n",
    "from plaid_bridges.common import BaseRegressionDataset\n",
    "from plaid_bridges.torch import GridFieldsAndScalarsOfflineTransformer"
   ]
  },
  {
   "cell_type": "markdown",
   "id": "d959da68",
   "metadata": {},
   "source": [
    "## Projection on constant rectilinear grid, with scalars as constant fields"
   ]
  },
  {
   "cell_type": "code",
   "execution_count": 10,
   "id": "788c5319",
   "metadata": {},
   "outputs": [
    {
     "name": "stdout",
     "output_type": "stream",
     "text": [
      "Converting Hugging Face dataset to plaid dataset...\n"
     ]
    },
    {
     "name": "stderr",
     "output_type": "stream",
     "text": [
      "100%|██████████| 10/10 [00:00<00:00, 268.38it/s]"
     ]
    },
    {
     "name": "stdout",
     "output_type": "stream",
     "text": [
      "Dataset(10 samples, 4 scalars, 0 time_series, 7 fields)\n"
     ]
    },
    {
     "name": "stderr",
     "output_type": "stream",
     "text": [
      "\n"
     ]
    }
   ],
   "source": [
    "hf_dataset = load_dataset(\n",
    "    \"PLAID-datasets/2D_Multiscale_Hyperelasticity\", split=\"all_samples\"\n",
    ")\n",
    "pb_def = huggingface_description_to_problem_definition(hf_dataset.info.description)\n",
    "ids_train = pb_def.get_split(\"DOE_train\")[:10]\n",
    "\n",
    "dataset_train, _ = huggingface_dataset_to_plaid(\n",
    "    hf_dataset, ids=ids_train, processes_number=5\n",
    ")\n",
    "n_train = len(dataset_train)\n",
    "print(dataset_train)"
   ]
  },
  {
   "cell_type": "code",
   "execution_count": 11,
   "id": "d9d93b3d",
   "metadata": {},
   "outputs": [
    {
     "name": "stderr",
     "output_type": "stream",
     "text": [
      "100%|██████████| 10/10 [00:00<00:00, 14.94it/s]\n"
     ]
    },
    {
     "name": "stdout",
     "output_type": "stream",
     "text": [
      "[376, 377, 378, 379, 380, 381, 382, 383, 384, 385]\n"
     ]
    },
    {
     "name": "stderr",
     "output_type": "stream",
     "text": [
      "100%|██████████| 10/10 [00:00<00:00, 33.58it/s]\n"
     ]
    }
   ],
   "source": [
    "dims = (101, 101)\n",
    "dataset_train = update_dataset_with_sdf(dataset_train, verbose=True)\n",
    "\n",
    "print(dataset_train.get_sample_ids())\n",
    "\n",
    "bbox = compute_bounding_box(dataset_train)\n",
    "projected_dataset_train = project_on_regular_grid(\n",
    "    dataset_train, dimensions=dims, bbox=bbox, verbose=True\n",
    ")\n",
    "\n",
    "all_feat_ids = dataset_train[ids_train[0]].get_all_features_identifiers()\n",
    "scalar_features = [f for f in all_feat_ids if \"scalar\" in f.values()]\n",
    "field_features = [f for f in all_feat_ids if \"field\" in f.values()]"
   ]
  },
  {
   "cell_type": "code",
   "execution_count": 12,
   "id": "101b83f8",
   "metadata": {},
   "outputs": [],
   "source": [
    "offline_in_transformer = GridFieldsAndScalarsOfflineTransformer(\n",
    "    dimensions=dims,\n",
    "    features_identifiers=[field_features[0], scalar_features[0]],\n",
    ")\n",
    "offline_out_transformer = GridFieldsAndScalarsOfflineTransformer(\n",
    "    dimensions=dims,\n",
    "    features_identifiers=[scalar_features[1], field_features[1]],\n",
    ")"
   ]
  },
  {
   "cell_type": "code",
   "execution_count": 13,
   "id": "d240a5d0",
   "metadata": {},
   "outputs": [],
   "source": [
    "torch_dataset = BaseRegressionDataset(\n",
    "    dataset=projected_dataset_train,\n",
    "    offline_in_transformer=offline_in_transformer,\n",
    "    offline_out_transformer=offline_out_transformer,\n",
    ")"
   ]
  },
  {
   "cell_type": "code",
   "execution_count": 14,
   "id": "34415461",
   "metadata": {},
   "outputs": [
    {
     "name": "stdout",
     "output_type": "stream",
     "text": [
      "Error after transform then inverse transform (2nd sample):\n",
      "0.0\n"
     ]
    }
   ],
   "source": [
    "loader = DataLoader(\n",
    "    torch_dataset,\n",
    "    batch_size=2,\n",
    "    shuffle=False,\n",
    ")\n",
    "\n",
    "out_feat_id = scalar_features[0]\n",
    "\n",
    "before = copy.deepcopy(\n",
    "    projected_dataset_train[ids_train[1]].get_feature_from_identifier(out_feat_id)\n",
    ")\n",
    "\n",
    "predictions = []\n",
    "for batch_x, batch_y in loader:\n",
    "    for torch_sample in batch_y:\n",
    "        predictions.append(torch_sample.detach().cpu())\n",
    "\n",
    "pred_projected_dataset_train = offline_out_transformer.inverse_transform(\n",
    "    projected_dataset_train, predictions\n",
    ")\n",
    "\n",
    "after = copy.deepcopy(\n",
    "    pred_projected_dataset_train[ids_train[1]].get_feature_from_identifier(out_feat_id)\n",
    ")\n",
    "\n",
    "print(\"Error after transform then inverse transform (2nd sample):\")\n",
    "print(np.linalg.norm(after - before) / np.linalg.norm(before))"
   ]
  },
  {
   "cell_type": "code",
   "execution_count": 15,
   "id": "6f9ffcf7",
   "metadata": {},
   "outputs": [
    {
     "name": "stdout",
     "output_type": "stream",
     "text": [
      "RegressionDataset, initialized from plaid:Dataset(10 samples, 4 scalars, 0 time_series, 8 fields)\n"
     ]
    }
   ],
   "source": [
    "print(torch_dataset)"
   ]
  },
  {
   "cell_type": "code",
   "execution_count": 16,
   "id": "b2295d90",
   "metadata": {},
   "outputs": [
    {
     "name": "stdout",
     "output_type": "stream",
     "text": [
      "Transformer (2 input features)\n",
      "Transformer: features=['C12 (scalar)', 'psi (field)']\n"
     ]
    }
   ],
   "source": [
    "print(offline_out_transformer)\n",
    "print(offline_out_transformer.show_details())"
   ]
  }
 ],
 "metadata": {
  "kernelspec": {
   "display_name": "plaid-bridged",
   "language": "python",
   "name": "python3"
  },
  "language_info": {
   "codemirror_mode": {
    "name": "ipython",
    "version": 3
   },
   "file_extension": ".py",
   "mimetype": "text/x-python",
   "name": "python",
   "nbconvert_exporter": "python",
   "pygments_lexer": "ipython3",
   "version": "3.11.13"
  }
 },
 "nbformat": 4,
 "nbformat_minor": 5
}
