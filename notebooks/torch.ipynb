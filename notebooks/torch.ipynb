{
 "cells": [
  {
   "cell_type": "markdown",
   "id": "0400046b",
   "metadata": {},
   "source": [
    "# Torch bridges examples\n",
    "\n",
    "## Homogeneous dataset"
   ]
  },
  {
   "cell_type": "code",
   "execution_count": null,
   "id": "5d901605",
   "metadata": {},
   "outputs": [],
   "source": [
    "import copy\n",
    "import pickle\n",
    "\n",
    "import numpy as np\n",
    "from datasets import load_dataset\n",
    "from plaid.bridges.huggingface_bridge import (\n",
    "    huggingface_dataset_to_plaid,\n",
    "    huggingface_description_to_problem_definition,\n",
    ")\n",
    "from plaid.containers.sample import Sample\n",
    "from plaid_ops.mesh.feature_engineering import update_dataset_with_sdf\n",
    "from plaid_ops.mesh.transformations import (\n",
    "    compute_bounding_box,\n",
    "    project_on_regular_grid,\n",
    ")\n",
    "from torch.utils.data import DataLoader\n",
    "\n",
    "from plaid_bridges.common import HomogeneousDataset\n",
    "from plaid_bridges.torch import GridFieldsAndScalarsDataset"
   ]
  },
  {
   "cell_type": "code",
   "execution_count": null,
   "id": "691a2eee",
   "metadata": {},
   "outputs": [],
   "source": [
    "hf_dataset = load_dataset(\"PLAID-datasets/VKI-LS59\", split=\"all_samples[:10]\")\n",
    "sample = Sample.model_validate(pickle.loads(hf_dataset[0][\"sample\"]))\n",
    "\n",
    "pb_def = huggingface_description_to_problem_definition(hf_dataset.info.description)\n",
    "ids = pb_def.get_split(\"train\")[:10]\n",
    "\n",
    "dataset, _ = huggingface_dataset_to_plaid(hf_dataset, ids=ids, processes_number=5)"
   ]
  },
  {
   "cell_type": "code",
   "execution_count": null,
   "id": "1c59a350",
   "metadata": {},
   "outputs": [],
   "source": [
    "print(dataset)\n",
    "all_feat_ids = dataset[0].get_all_features_identifiers()\n",
    "\n",
    "scalar_features = [f for f in all_feat_ids if \"scalar\" in f.values()]\n",
    "field_features = [\n",
    "    f for f in all_feat_ids if \"field\" in f.values() and \"Base_2_2\" in f.values()\n",
    "]\n",
    "\n",
    "in_features_identifiers = scalar_features\n",
    "out_features_identifiers = field_features\n",
    "\n",
    "print(in_features_identifiers)\n",
    "print(out_features_identifiers)"
   ]
  },
  {
   "cell_type": "code",
   "execution_count": null,
   "id": "44efb0e4",
   "metadata": {},
   "outputs": [],
   "source": [
    "homogen_dataset = HomogeneousDataset(\n",
    "    dataset=dataset,\n",
    "    in_features_identifiers=in_features_identifiers,\n",
    "    out_features_identifiers=out_features_identifiers,\n",
    ")\n",
    "\n",
    "homogen_dataset.show_details()"
   ]
  },
  {
   "cell_type": "code",
   "execution_count": null,
   "id": "afb960b4",
   "metadata": {},
   "outputs": [],
   "source": [
    "loader = DataLoader(\n",
    "    homogen_dataset,\n",
    "    batch_size=2,\n",
    "    shuffle=False,\n",
    ")\n",
    "\n",
    "out_feat_id = out_features_identifiers[0]\n",
    "before = copy.deepcopy(dataset[ids[1]].get_feature_from_identifier(out_feat_id))\n",
    "\n",
    "predictions = []\n",
    "for batch in loader:\n",
    "    for torch_sample in batch:\n",
    "        predictions.append(torch_sample[1])\n",
    "\n",
    "dataset_pred = homogen_dataset.inverse_transform(predictions)\n",
    "\n",
    "after = copy.deepcopy(dataset_pred[ids[1]].get_feature_from_identifier(out_feat_id))\n",
    "\n",
    "print(\"Error after transform then inverse transform (2nd sample):\")\n",
    "print(np.linalg.norm(after - before) / np.linalg.norm(before))"
   ]
  },
  {
   "cell_type": "markdown",
   "id": "d959da68",
   "metadata": {},
   "source": [
    "## Projection on constant rectilinear grid, with scalars as constant fields"
   ]
  },
  {
   "cell_type": "code",
   "execution_count": null,
   "id": "788c5319",
   "metadata": {},
   "outputs": [],
   "source": [
    "hf_dataset = load_dataset(\n",
    "    \"PLAID-datasets/2D_Multiscale_Hyperelasticity\", split=\"all_samples\"\n",
    ")\n",
    "pb_def = huggingface_description_to_problem_definition(hf_dataset.info.description)\n",
    "ids_train = pb_def.get_split(\"DOE_train\")[:10]\n",
    "\n",
    "dataset_train, _ = huggingface_dataset_to_plaid(\n",
    "    hf_dataset, ids=ids_train, processes_number=5\n",
    ")\n",
    "n_train = len(dataset_train)\n",
    "print(dataset_train)"
   ]
  },
  {
   "cell_type": "code",
   "execution_count": null,
   "id": "d9d93b3d",
   "metadata": {},
   "outputs": [],
   "source": [
    "dims = (101, 101)\n",
    "dataset_train = update_dataset_with_sdf(dataset_train, verbose=True)\n",
    "\n",
    "print(dataset_train.get_sample_ids())\n",
    "\n",
    "bbox = compute_bounding_box(dataset_train)\n",
    "projected_dataset_train = project_on_regular_grid(\n",
    "    dataset_train, dimensions=dims, bbox=bbox, verbose=True\n",
    ")\n",
    "\n",
    "all_feat_ids = dataset_train[ids_train[0]].get_all_features_identifiers()\n",
    "scalar_features = [f for f in all_feat_ids if \"scalar\" in f.values()]\n",
    "field_features = [f for f in all_feat_ids if \"field\" in f.values()]"
   ]
  },
  {
   "cell_type": "code",
   "execution_count": null,
   "id": "f5128800",
   "metadata": {},
   "outputs": [],
   "source": [
    "torch_dataset = GridFieldsAndScalarsDataset(\n",
    "    dataset=projected_dataset_train,\n",
    "    dimensions=dims,\n",
    "    in_features_identifiers=[field_features[0], scalar_features[0]],\n",
    "    out_features_identifiers=[scalar_features[1], field_features[1]],\n",
    ")\n",
    "\n",
    "loader = DataLoader(\n",
    "    torch_dataset,\n",
    "    batch_size=2,\n",
    "    shuffle=False,\n",
    ")\n",
    "\n",
    "out_feat_id = scalar_features[0]\n",
    "\n",
    "before = copy.deepcopy(\n",
    "    projected_dataset_train[ids_train[1]].get_feature_from_identifier(out_feat_id)\n",
    ")\n",
    "\n",
    "predictions = []\n",
    "for batch in loader:\n",
    "    for torch_sample in batch[1]:\n",
    "        predictions.append(torch_sample.detach().cpu().numpy())\n",
    "\n",
    "projected_dataset_train = torch_dataset.inverse_transform(predictions)\n",
    "\n",
    "after = copy.deepcopy(\n",
    "    projected_dataset_train[ids_train[1]].get_feature_from_identifier(out_feat_id)\n",
    ")\n",
    "\n",
    "print(\"Error after transform then inverse transform (2nd sample):\")\n",
    "print(np.linalg.norm(after - before) / np.linalg.norm(before))"
   ]
  }
 ],
 "metadata": {
  "kernelspec": {
   "display_name": "plaid-bridges",
   "language": "python",
   "name": "python3"
  },
  "language_info": {
   "codemirror_mode": {
    "name": "ipython",
    "version": 3
   },
   "file_extension": ".py",
   "mimetype": "text/x-python",
   "name": "python",
   "nbconvert_exporter": "python",
   "pygments_lexer": "ipython3",
   "version": "3.11.13"
  }
 },
 "nbformat": 4,
 "nbformat_minor": 5
}
