{
 "cells": [
  {
   "cell_type": "markdown",
   "id": "0400046b",
   "metadata": {},
   "source": [
    "# Torch common examples"
   ]
  },
  {
   "cell_type": "code",
   "execution_count": null,
   "id": "5d901605",
   "metadata": {},
   "outputs": [],
   "source": [
    "import copy\n",
    "import pickle\n",
    "\n",
    "import numpy as np\n",
    "from datasets import load_dataset\n",
    "from plaid.bridges.huggingface_bridge import (\n",
    "    huggingface_dataset_to_plaid,\n",
    "    huggingface_description_to_problem_definition,\n",
    ")\n",
    "from plaid.containers.sample import Sample\n",
    "from torch.utils.data import DataLoader\n",
    "\n",
    "from plaid_bridges.common.base_regression_dataset import BaseRegressionDataset\n",
    "from plaid_bridges.common.homogeneous_dataset import HomogeneousDataset"
   ]
  },
  {
   "cell_type": "code",
   "execution_count": null,
   "id": "691a2eee",
   "metadata": {},
   "outputs": [],
   "source": [
    "hf_dataset = load_dataset(\"PLAID-datasets/VKI-LS59\", split=\"all_samples[:10]\")\n",
    "sample = Sample.model_validate(pickle.loads(hf_dataset[0][\"sample\"]))\n",
    "\n",
    "pb_def = huggingface_description_to_problem_definition(hf_dataset.info.description)\n",
    "ids = pb_def.get_split(\"train\")[:10]\n",
    "\n",
    "dataset, _ = huggingface_dataset_to_plaid(hf_dataset, ids=ids, processes_number=5)"
   ]
  },
  {
   "cell_type": "code",
   "execution_count": null,
   "id": "1c59a350",
   "metadata": {},
   "outputs": [],
   "source": [
    "print(dataset)\n",
    "all_feat_ids = dataset[0].get_all_features_identifiers()\n",
    "\n",
    "scalar_features = [f for f in all_feat_ids if \"scalar\" in f.values()]\n",
    "field_features = [f for f in all_feat_ids if \"field\" in f.values()]\n",
    "\n",
    "in_features_identifiers = [scalar_features[0], field_features[0]]\n",
    "out_features_identifiers = [field_features[1], scalar_features[1]]\n",
    "\n",
    "print(in_features_identifiers)\n",
    "print(out_features_identifiers)"
   ]
  },
  {
   "cell_type": "code",
   "execution_count": null,
   "id": "44efb0e4",
   "metadata": {},
   "outputs": [],
   "source": [
    "reg_dataset = BaseRegressionDataset(\n",
    "    dataset=dataset,\n",
    "    in_features_identifiers=in_features_identifiers,\n",
    "    out_features_identifiers=out_features_identifiers,\n",
    "    train=True,\n",
    ")\n",
    "\n",
    "reg_dataset.show_details()"
   ]
  },
  {
   "cell_type": "code",
   "execution_count": null,
   "id": "d2294bc0",
   "metadata": {},
   "outputs": [],
   "source": [
    "print(reg_dataset[1][0][1])\n",
    "print(reg_dataset.in_features[1][1])"
   ]
  },
  {
   "cell_type": "markdown",
   "id": "8bf8e455",
   "metadata": {},
   "source": [
    "## Homogeneous dataset"
   ]
  },
  {
   "cell_type": "code",
   "execution_count": null,
   "id": "34648bef",
   "metadata": {},
   "outputs": [],
   "source": [
    "scalar_features = [f for f in all_feat_ids if \"scalar\" in f.values()]\n",
    "field_features = [\n",
    "    f for f in all_feat_ids if \"field\" in f.values() and \"Base_2_2\" in f.values()\n",
    "]\n",
    "\n",
    "in_features_identifiers = scalar_features\n",
    "out_features_identifiers = field_features\n",
    "\n",
    "print(in_features_identifiers)\n",
    "print(out_features_identifiers)"
   ]
  },
  {
   "cell_type": "code",
   "execution_count": null,
   "id": "e6f2b7ef",
   "metadata": {},
   "outputs": [],
   "source": [
    "homogen_dataset = HomogeneousDataset(\n",
    "    dataset=dataset,\n",
    "    in_features_identifiers=in_features_identifiers,\n",
    "    out_features_identifiers=out_features_identifiers,\n",
    "    train=True,\n",
    ")\n",
    "\n",
    "homogen_dataset.show_details()"
   ]
  },
  {
   "cell_type": "code",
   "execution_count": null,
   "id": "32f9dbbc",
   "metadata": {},
   "outputs": [],
   "source": [
    "loader = DataLoader(\n",
    "    homogen_dataset,\n",
    "    batch_size=2,\n",
    "    shuffle=False,\n",
    ")\n",
    "\n",
    "out_feat_id = out_features_identifiers[0]\n",
    "before = copy.deepcopy(dataset[ids[1]].get_feature_from_identifier(out_feat_id))\n",
    "\n",
    "predictions = []\n",
    "for batch in loader:\n",
    "    for torch_sample in batch:\n",
    "        predictions.append(torch_sample[1])\n",
    "\n",
    "dataset_pred = homogen_dataset.inverse_transform(predictions)\n",
    "\n",
    "after = copy.deepcopy(dataset_pred[ids[1]].get_feature_from_identifier(out_feat_id))\n",
    "\n",
    "print(\"Error after transform then inverse transform (2nd sample):\")\n",
    "print(np.linalg.norm(after - before) / np.linalg.norm(before))"
   ]
  }
 ],
 "metadata": {
  "kernelspec": {
   "display_name": "plaid-bridged",
   "language": "python",
   "name": "python3"
  },
  "language_info": {
   "codemirror_mode": {
    "name": "ipython",
    "version": 3
   },
   "file_extension": ".py",
   "mimetype": "text/x-python",
   "name": "python",
   "nbconvert_exporter": "python",
   "pygments_lexer": "ipython3",
   "version": "3.11.13"
  }
 },
 "nbformat": 4,
 "nbformat_minor": 5
}
