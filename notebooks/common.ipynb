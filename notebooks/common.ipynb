{
 "cells": [
  {
   "cell_type": "markdown",
   "id": "0400046b",
   "metadata": {},
   "source": [
    "# Common examples"
   ]
  },
  {
   "cell_type": "markdown",
   "id": "cb8fdf8d",
   "metadata": {},
   "source": [
    "## Homogeneous dataset"
   ]
  },
  {
   "cell_type": "code",
   "execution_count": null,
   "id": "5d901605",
   "metadata": {},
   "outputs": [],
   "source": [
    "import copy\n",
    "import pickle\n",
    "\n",
    "import numpy as np\n",
    "from datasets import load_dataset\n",
    "from plaid.bridges.huggingface_bridge import (\n",
    "    huggingface_dataset_to_plaid,\n",
    "    huggingface_description_to_problem_definition,\n",
    ")\n",
    "from plaid.containers.sample import Sample\n",
    "from torch.utils.data import DataLoader\n",
    "\n",
    "from plaid_bridges.common import HomogeneousBridge"
   ]
  },
  {
   "cell_type": "code",
   "execution_count": null,
   "id": "691a2eee",
   "metadata": {},
   "outputs": [],
   "source": [
    "hf_dataset = load_dataset(\"PLAID-datasets/VKI-LS59\", split=\"all_samples[:10]\")\n",
    "sample = Sample.model_validate(pickle.loads(hf_dataset[0][\"sample\"]))\n",
    "\n",
    "pb_def = huggingface_description_to_problem_definition(hf_dataset.info.description)\n",
    "ids = pb_def.get_split(\"train\")[:10]\n",
    "\n",
    "dataset, _ = huggingface_dataset_to_plaid(hf_dataset, ids=ids, processes_number=5)\n",
    "print(dataset)\n",
    "\n",
    "all_feat_ids = dataset[0].get_all_features_identifiers()"
   ]
  },
  {
   "cell_type": "markdown",
   "id": "09cc319b",
   "metadata": {},
   "source": [
    "### Field inputs and scalar outputs"
   ]
  },
  {
   "cell_type": "code",
   "execution_count": null,
   "id": "34648bef",
   "metadata": {},
   "outputs": [],
   "source": [
    "scalar_features = [f for f in all_feat_ids if \"scalar\" in f.values()]\n",
    "field_features = [\n",
    "    f for f in all_feat_ids if \"field\" in f.values() and \"Base_2_2\" in f.values()\n",
    "]\n",
    "\n",
    "in_features_identifiers = field_features\n",
    "out_features_identifiers = scalar_features\n",
    "\n",
    "print(in_features_identifiers)\n",
    "print(out_features_identifiers)"
   ]
  },
  {
   "cell_type": "code",
   "execution_count": null,
   "id": "32f9dbbc",
   "metadata": {},
   "outputs": [],
   "source": [
    "bridge = HomogeneousBridge()\n",
    "homogen_dataset = bridge.convert(\n",
    "    dataset, [in_features_identifiers, out_features_identifiers]\n",
    ")\n",
    "\n",
    "loader = DataLoader(\n",
    "    homogen_dataset,\n",
    "    batch_size=2,\n",
    "    shuffle=False,\n",
    ")\n",
    "\n",
    "out_feat_id = out_features_identifiers[0]\n",
    "before = copy.deepcopy(dataset[ids[1]].get_feature_from_identifier(out_feat_id))\n",
    "\n",
    "predictions = []\n",
    "for batch_x, batch_y in loader:\n",
    "    for torch_sample in batch_y:\n",
    "        predictions.append(torch_sample.detach().cpu().numpy())\n",
    "\n",
    "dataset_pred = bridge.restore(dataset, predictions, out_features_identifiers)\n",
    "\n",
    "after = copy.deepcopy(dataset_pred[ids[1]].get_feature_from_identifier(out_feat_id))\n",
    "\n",
    "print(\"Error after transform then inverse transform (2nd sample):\")\n",
    "print(np.linalg.norm(after - before) / np.linalg.norm(before))"
   ]
  },
  {
   "cell_type": "markdown",
   "id": "0256df6a",
   "metadata": {},
   "source": [
    "### Scalar inputs and Field outputs"
   ]
  },
  {
   "cell_type": "code",
   "execution_count": null,
   "id": "589663c3",
   "metadata": {},
   "outputs": [],
   "source": [
    "in_features_identifiers = scalar_features\n",
    "out_features_identifiers = field_features\n",
    "\n",
    "print(in_features_identifiers)\n",
    "print(out_features_identifiers)"
   ]
  },
  {
   "cell_type": "code",
   "execution_count": null,
   "id": "829a021a",
   "metadata": {},
   "outputs": [],
   "source": [
    "bridge = HomogeneousBridge()\n",
    "homogen_dataset = bridge.convert(\n",
    "    dataset, [in_features_identifiers, out_features_identifiers]\n",
    ")\n",
    "\n",
    "loader = DataLoader(\n",
    "    homogen_dataset,\n",
    "    batch_size=2,\n",
    "    shuffle=False,\n",
    ")\n",
    "\n",
    "out_feat_id = out_features_identifiers[0]\n",
    "before = copy.deepcopy(dataset[ids[1]].get_feature_from_identifier(out_feat_id))\n",
    "\n",
    "predictions = []\n",
    "for batch_x, batch_y in loader:\n",
    "    for torch_sample in batch_y:\n",
    "        predictions.append(torch_sample.detach().cpu().numpy())\n",
    "\n",
    "dataset_pred = bridge.restore(dataset, predictions, out_features_identifiers)\n",
    "\n",
    "after = copy.deepcopy(dataset_pred[ids[1]].get_feature_from_identifier(out_feat_id))\n",
    "\n",
    "print(\"Error after transform then inverse transform (2nd sample):\")\n",
    "print(np.linalg.norm(after - before) / np.linalg.norm(before))"
   ]
  }
 ],
 "metadata": {
  "kernelspec": {
   "display_name": "plaid-bridged",
   "language": "python",
   "name": "python3"
  },
  "language_info": {
   "codemirror_mode": {
    "name": "ipython",
    "version": 3
   },
   "file_extension": ".py",
   "mimetype": "text/x-python",
   "name": "python",
   "nbconvert_exporter": "python",
   "pygments_lexer": "ipython3",
   "version": "3.11.13"
  }
 },
 "nbformat": 4,
 "nbformat_minor": 5
}
