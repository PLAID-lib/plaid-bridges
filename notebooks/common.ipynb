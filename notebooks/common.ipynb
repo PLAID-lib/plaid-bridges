{
 "cells": [
  {
   "cell_type": "markdown",
   "id": "0400046b",
   "metadata": {},
   "source": [
    "# Common examples"
   ]
  },
  {
   "cell_type": "markdown",
   "id": "cb8fdf8d",
   "metadata": {},
   "source": [
    "## Homogeneous dataset"
   ]
  },
  {
   "cell_type": "code",
   "execution_count": 1,
   "id": "5d901605",
   "metadata": {},
   "outputs": [
    {
     "name": "stderr",
     "output_type": "stream",
     "text": [
      "/home/fabien/miniconda3/envs/plaid-bridged/lib/python3.11/site-packages/tqdm/auto.py:21: TqdmWarning: IProgress not found. Please update jupyter and ipywidgets. See https://ipywidgets.readthedocs.io/en/stable/user_install.html\n",
      "  from .autonotebook import tqdm as notebook_tqdm\n"
     ]
    }
   ],
   "source": [
    "import copy\n",
    "import pickle\n",
    "\n",
    "import numpy as np\n",
    "from datasets import load_dataset\n",
    "from plaid.bridges.huggingface_bridge import (\n",
    "    huggingface_dataset_to_plaid,\n",
    "    huggingface_description_to_problem_definition,\n",
    ")\n",
    "from plaid.containers.sample import Sample\n",
    "from torch.utils.data import DataLoader\n",
    "\n",
    "from plaid_bridges.common import HomogeneousBridge"
   ]
  },
  {
   "cell_type": "code",
   "execution_count": 2,
   "id": "691a2eee",
   "metadata": {},
   "outputs": [
    {
     "name": "stdout",
     "output_type": "stream",
     "text": [
      "Converting Hugging Face dataset to plaid dataset...\n"
     ]
    },
    {
     "name": "stderr",
     "output_type": "stream",
     "text": [
      "100%|██████████| 10/10 [00:00<00:00, 51.56it/s]\n"
     ]
    },
    {
     "name": "stdout",
     "output_type": "stream",
     "text": [
      "Dataset(10 samples, 8 scalars, 0 time_series, 8 fields)\n"
     ]
    }
   ],
   "source": [
    "hf_dataset = load_dataset(\"PLAID-datasets/VKI-LS59\", split=\"all_samples[:10]\")\n",
    "sample = Sample.model_validate(pickle.loads(hf_dataset[0][\"sample\"]))\n",
    "\n",
    "pb_def = huggingface_description_to_problem_definition(hf_dataset.info.description)\n",
    "ids = pb_def.get_split(\"train\")[:10]\n",
    "\n",
    "dataset, _ = huggingface_dataset_to_plaid(hf_dataset, ids=ids, processes_number=5)\n",
    "print(dataset)\n",
    "\n",
    "all_feat_ids = dataset[0].get_all_features_identifiers()"
   ]
  },
  {
   "cell_type": "markdown",
   "id": "09cc319b",
   "metadata": {},
   "source": [
    "### Field inputs and scalar outputs"
   ]
  },
  {
   "cell_type": "code",
   "execution_count": 3,
   "id": "34648bef",
   "metadata": {},
   "outputs": [
    {
     "name": "stdout",
     "output_type": "stream",
     "text": [
      "[{'type': 'field', 'name': 'sdf', 'base_name': 'Base_2_2', 'zone_name': 'Zone', 'location': 'Vertex', 'time': 0.0}, {'type': 'field', 'name': 'rov', 'base_name': 'Base_2_2', 'zone_name': 'Zone', 'location': 'Vertex', 'time': 0.0}, {'type': 'field', 'name': 'ro', 'base_name': 'Base_2_2', 'zone_name': 'Zone', 'location': 'Vertex', 'time': 0.0}, {'type': 'field', 'name': 'rou', 'base_name': 'Base_2_2', 'zone_name': 'Zone', 'location': 'Vertex', 'time': 0.0}, {'type': 'field', 'name': 'roe', 'base_name': 'Base_2_2', 'zone_name': 'Zone', 'location': 'Vertex', 'time': 0.0}, {'type': 'field', 'name': 'mach', 'base_name': 'Base_2_2', 'zone_name': 'Zone', 'location': 'Vertex', 'time': 0.0}, {'type': 'field', 'name': 'nut', 'base_name': 'Base_2_2', 'zone_name': 'Zone', 'location': 'Vertex', 'time': 0.0}]\n",
      "[{'type': 'scalar', 'name': 'Pr'}, {'type': 'scalar', 'name': 'Q'}, {'type': 'scalar', 'name': 'Tr'}, {'type': 'scalar', 'name': 'angle_in'}, {'type': 'scalar', 'name': 'angle_out'}, {'type': 'scalar', 'name': 'eth_is'}, {'type': 'scalar', 'name': 'mach_out'}, {'type': 'scalar', 'name': 'power'}]\n"
     ]
    }
   ],
   "source": [
    "scalar_features = [f for f in all_feat_ids if \"scalar\" in f.values()]\n",
    "field_features = [\n",
    "    f for f in all_feat_ids if \"field\" in f.values() and \"Base_2_2\" in f.values()\n",
    "]\n",
    "\n",
    "in_features_identifiers = field_features\n",
    "out_features_identifiers = scalar_features\n",
    "\n",
    "print(in_features_identifiers)\n",
    "print(out_features_identifiers)"
   ]
  },
  {
   "cell_type": "code",
   "execution_count": 4,
   "id": "32f9dbbc",
   "metadata": {},
   "outputs": [
    {
     "name": "stdout",
     "output_type": "stream",
     "text": [
      "Error after transform then inverse transform (2nd sample):\n",
      "0.0\n"
     ]
    }
   ],
   "source": [
    "bridge = HomogeneousBridge()\n",
    "homogen_dataset = bridge.convert(\n",
    "    dataset, in_features_identifiers, out_features_identifiers\n",
    ")\n",
    "\n",
    "loader = DataLoader(\n",
    "    homogen_dataset,\n",
    "    batch_size=2,\n",
    "    shuffle=False,\n",
    ")\n",
    "\n",
    "out_feat_id = out_features_identifiers[0]\n",
    "before = copy.deepcopy(dataset[ids[1]].get_feature_from_identifier(out_feat_id))\n",
    "\n",
    "predictions = []\n",
    "for batch_x, batch_y in loader:\n",
    "    for torch_sample in batch_y:\n",
    "        predictions.append(torch_sample.detach().cpu().numpy())\n",
    "\n",
    "dataset_pred = bridge.restore(dataset, predictions, out_features_identifiers)\n",
    "\n",
    "after = copy.deepcopy(dataset_pred[ids[1]].get_feature_from_identifier(out_feat_id))\n",
    "\n",
    "print(\"Error after transform then inverse transform (2nd sample):\")\n",
    "print(np.linalg.norm(after - before) / np.linalg.norm(before))"
   ]
  },
  {
   "cell_type": "markdown",
   "id": "0256df6a",
   "metadata": {},
   "source": [
    "### Scalar inputs and Field outputs"
   ]
  },
  {
   "cell_type": "code",
   "execution_count": 5,
   "id": "589663c3",
   "metadata": {},
   "outputs": [
    {
     "name": "stdout",
     "output_type": "stream",
     "text": [
      "[{'type': 'scalar', 'name': 'Pr'}, {'type': 'scalar', 'name': 'Q'}, {'type': 'scalar', 'name': 'Tr'}, {'type': 'scalar', 'name': 'angle_in'}, {'type': 'scalar', 'name': 'angle_out'}, {'type': 'scalar', 'name': 'eth_is'}, {'type': 'scalar', 'name': 'mach_out'}, {'type': 'scalar', 'name': 'power'}]\n",
      "[{'type': 'field', 'name': 'sdf', 'base_name': 'Base_2_2', 'zone_name': 'Zone', 'location': 'Vertex', 'time': 0.0}, {'type': 'field', 'name': 'rov', 'base_name': 'Base_2_2', 'zone_name': 'Zone', 'location': 'Vertex', 'time': 0.0}, {'type': 'field', 'name': 'ro', 'base_name': 'Base_2_2', 'zone_name': 'Zone', 'location': 'Vertex', 'time': 0.0}, {'type': 'field', 'name': 'rou', 'base_name': 'Base_2_2', 'zone_name': 'Zone', 'location': 'Vertex', 'time': 0.0}, {'type': 'field', 'name': 'roe', 'base_name': 'Base_2_2', 'zone_name': 'Zone', 'location': 'Vertex', 'time': 0.0}, {'type': 'field', 'name': 'mach', 'base_name': 'Base_2_2', 'zone_name': 'Zone', 'location': 'Vertex', 'time': 0.0}, {'type': 'field', 'name': 'nut', 'base_name': 'Base_2_2', 'zone_name': 'Zone', 'location': 'Vertex', 'time': 0.0}]\n"
     ]
    }
   ],
   "source": [
    "in_features_identifiers = scalar_features\n",
    "out_features_identifiers = field_features\n",
    "\n",
    "print(in_features_identifiers)\n",
    "print(out_features_identifiers)"
   ]
  },
  {
   "cell_type": "code",
   "execution_count": 6,
   "id": "829a021a",
   "metadata": {},
   "outputs": [
    {
     "name": "stdout",
     "output_type": "stream",
     "text": [
      "Error after transform then inverse transform (2nd sample):\n",
      "0.0\n"
     ]
    }
   ],
   "source": [
    "bridge = HomogeneousBridge()\n",
    "homogen_dataset = bridge.convert(\n",
    "    dataset, in_features_identifiers, out_features_identifiers\n",
    ")\n",
    "\n",
    "loader = DataLoader(\n",
    "    homogen_dataset,\n",
    "    batch_size=2,\n",
    "    shuffle=False,\n",
    ")\n",
    "\n",
    "out_feat_id = out_features_identifiers[0]\n",
    "before = copy.deepcopy(dataset[ids[1]].get_feature_from_identifier(out_feat_id))\n",
    "\n",
    "predictions = []\n",
    "for batch_x, batch_y in loader:\n",
    "    for torch_sample in batch_y:\n",
    "        predictions.append(torch_sample.detach().cpu().numpy())\n",
    "\n",
    "dataset_pred = bridge.restore(dataset, predictions, out_features_identifiers)\n",
    "\n",
    "after = copy.deepcopy(dataset_pred[ids[1]].get_feature_from_identifier(out_feat_id))\n",
    "\n",
    "print(\"Error after transform then inverse transform (2nd sample):\")\n",
    "print(np.linalg.norm(after - before) / np.linalg.norm(before))"
   ]
  }
 ],
 "metadata": {
  "kernelspec": {
   "display_name": "plaid-bridged",
   "language": "python",
   "name": "python3"
  },
  "language_info": {
   "codemirror_mode": {
    "name": "ipython",
    "version": 3
   },
   "file_extension": ".py",
   "mimetype": "text/x-python",
   "name": "python",
   "nbconvert_exporter": "python",
   "pygments_lexer": "ipython3",
   "version": "3.11.13"
  }
 },
 "nbformat": 4,
 "nbformat_minor": 5
}
